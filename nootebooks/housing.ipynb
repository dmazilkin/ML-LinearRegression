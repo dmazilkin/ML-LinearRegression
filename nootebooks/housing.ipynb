{
 "cells": [
  {
   "cell_type": "code",
   "id": "initial_id",
   "metadata": {
    "collapsed": true,
    "ExecuteTime": {
     "end_time": "2025-05-14T14:20:06.019378Z",
     "start_time": "2025-05-14T14:20:05.736096Z"
    }
   },
   "source": [
    "import pandas as pd\n",
    "\n",
    "from src.linreg import LinearRegression"
   ],
   "outputs": [],
   "execution_count": 1
  },
  {
   "metadata": {
    "ExecuteTime": {
     "end_time": "2025-05-14T14:20:06.045163Z",
     "start_time": "2025-05-14T14:20:06.025848Z"
    }
   },
   "cell_type": "code",
   "source": [
    "# read data from csv\n",
    "df = pd.read_csv('../data/housing.csv')\n",
    "df.head()"
   ],
   "id": "18a8c5f75b612cea",
   "outputs": [
    {
     "data": {
      "text/plain": [
       "   longitude  latitude  housing_median_age  total_rooms  total_bedrooms  \\\n",
       "0    -122.23     37.88                  41          880           129.0   \n",
       "1    -122.22     37.86                  21         7099          1106.0   \n",
       "2    -122.24     37.85                  52         1467           190.0   \n",
       "3    -122.25     37.85                  52         1274           235.0   \n",
       "4    -122.25     37.85                  52         1627           280.0   \n",
       "\n",
       "   population  households  median_income ocean_proximity  median_house_value  \n",
       "0         322         126         8.3252        NEAR BAY              452600  \n",
       "1        2401        1138         8.3014        NEAR BAY              358500  \n",
       "2         496         177         7.2574        NEAR BAY              352100  \n",
       "3         558         219         5.6431        NEAR BAY              341300  \n",
       "4         565         259         3.8462        NEAR BAY              342200  "
      ],
      "text/html": [
       "<div>\n",
       "<style scoped>\n",
       "    .dataframe tbody tr th:only-of-type {\n",
       "        vertical-align: middle;\n",
       "    }\n",
       "\n",
       "    .dataframe tbody tr th {\n",
       "        vertical-align: top;\n",
       "    }\n",
       "\n",
       "    .dataframe thead th {\n",
       "        text-align: right;\n",
       "    }\n",
       "</style>\n",
       "<table border=\"1\" class=\"dataframe\">\n",
       "  <thead>\n",
       "    <tr style=\"text-align: right;\">\n",
       "      <th></th>\n",
       "      <th>longitude</th>\n",
       "      <th>latitude</th>\n",
       "      <th>housing_median_age</th>\n",
       "      <th>total_rooms</th>\n",
       "      <th>total_bedrooms</th>\n",
       "      <th>population</th>\n",
       "      <th>households</th>\n",
       "      <th>median_income</th>\n",
       "      <th>ocean_proximity</th>\n",
       "      <th>median_house_value</th>\n",
       "    </tr>\n",
       "  </thead>\n",
       "  <tbody>\n",
       "    <tr>\n",
       "      <th>0</th>\n",
       "      <td>-122.23</td>\n",
       "      <td>37.88</td>\n",
       "      <td>41</td>\n",
       "      <td>880</td>\n",
       "      <td>129.0</td>\n",
       "      <td>322</td>\n",
       "      <td>126</td>\n",
       "      <td>8.3252</td>\n",
       "      <td>NEAR BAY</td>\n",
       "      <td>452600</td>\n",
       "    </tr>\n",
       "    <tr>\n",
       "      <th>1</th>\n",
       "      <td>-122.22</td>\n",
       "      <td>37.86</td>\n",
       "      <td>21</td>\n",
       "      <td>7099</td>\n",
       "      <td>1106.0</td>\n",
       "      <td>2401</td>\n",
       "      <td>1138</td>\n",
       "      <td>8.3014</td>\n",
       "      <td>NEAR BAY</td>\n",
       "      <td>358500</td>\n",
       "    </tr>\n",
       "    <tr>\n",
       "      <th>2</th>\n",
       "      <td>-122.24</td>\n",
       "      <td>37.85</td>\n",
       "      <td>52</td>\n",
       "      <td>1467</td>\n",
       "      <td>190.0</td>\n",
       "      <td>496</td>\n",
       "      <td>177</td>\n",
       "      <td>7.2574</td>\n",
       "      <td>NEAR BAY</td>\n",
       "      <td>352100</td>\n",
       "    </tr>\n",
       "    <tr>\n",
       "      <th>3</th>\n",
       "      <td>-122.25</td>\n",
       "      <td>37.85</td>\n",
       "      <td>52</td>\n",
       "      <td>1274</td>\n",
       "      <td>235.0</td>\n",
       "      <td>558</td>\n",
       "      <td>219</td>\n",
       "      <td>5.6431</td>\n",
       "      <td>NEAR BAY</td>\n",
       "      <td>341300</td>\n",
       "    </tr>\n",
       "    <tr>\n",
       "      <th>4</th>\n",
       "      <td>-122.25</td>\n",
       "      <td>37.85</td>\n",
       "      <td>52</td>\n",
       "      <td>1627</td>\n",
       "      <td>280.0</td>\n",
       "      <td>565</td>\n",
       "      <td>259</td>\n",
       "      <td>3.8462</td>\n",
       "      <td>NEAR BAY</td>\n",
       "      <td>342200</td>\n",
       "    </tr>\n",
       "  </tbody>\n",
       "</table>\n",
       "</div>"
      ]
     },
     "execution_count": 2,
     "metadata": {},
     "output_type": "execute_result"
    }
   ],
   "execution_count": 2
  },
  {
   "metadata": {
    "ExecuteTime": {
     "end_time": "2025-05-14T14:20:06.128757Z",
     "start_time": "2025-05-14T14:20:06.124959Z"
    }
   },
   "cell_type": "code",
   "source": [
    "# check for missing values\n",
    "df.isna().sum()"
   ],
   "id": "eeae0f87ae2da848",
   "outputs": [
    {
     "data": {
      "text/plain": [
       "longitude               0\n",
       "latitude                0\n",
       "housing_median_age      0\n",
       "total_rooms             0\n",
       "total_bedrooms        207\n",
       "population              0\n",
       "households              0\n",
       "median_income           0\n",
       "ocean_proximity         0\n",
       "median_house_value      0\n",
       "dtype: int64"
      ]
     },
     "execution_count": 3,
     "metadata": {},
     "output_type": "execute_result"
    }
   ],
   "execution_count": 3
  },
  {
   "metadata": {
    "ExecuteTime": {
     "end_time": "2025-05-14T14:20:06.156362Z",
     "start_time": "2025-05-14T14:20:06.153096Z"
    }
   },
   "cell_type": "code",
   "source": [
    "# fill missing values with mean value\n",
    "df['total_bedrooms'] = df['total_bedrooms'].fillna(df['total_bedrooms'].mean())"
   ],
   "id": "d8f245d497d76a4",
   "outputs": [],
   "execution_count": 4
  },
  {
   "metadata": {
    "ExecuteTime": {
     "end_time": "2025-05-14T14:20:06.199034Z",
     "start_time": "2025-05-14T14:20:06.189057Z"
    }
   },
   "cell_type": "code",
   "source": [
    "# transform categorical data to numerical\n",
    "proximity_numerical: pd.DataFrame = pd.DataFrame(data=0, index=df.index, columns=df['ocean_proximity'].unique())\n",
    "\n",
    "for proximity in proximity_numerical.columns:\n",
    "    proximity_numerical[proximity] = (df['ocean_proximity'] == proximity).astype(int)\n",
    "    \n",
    "df = pd.concat([df, proximity_numerical], axis=1).drop(columns=['ocean_proximity'])"
   ],
   "id": "250428ae9b44656a",
   "outputs": [],
   "execution_count": 5
  },
  {
   "metadata": {
    "ExecuteTime": {
     "end_time": "2025-05-14T14:20:06.224719Z",
     "start_time": "2025-05-14T14:20:06.218691Z"
    }
   },
   "cell_type": "code",
   "source": [
    "# shuffle data and split into 80% training dataset and 20% test dataset\n",
    "seed = 14\n",
    "df_shuffled = df.sample(frac=1, random_state=14).reset_index(drop=True)\n",
    "df_training, df_test = df_shuffled[:int(df.shape[0]*0.8)], df_shuffled[int(df.shape[0]*0.8):]\n",
    "X_train, y_train = df_training.drop(columns=['median_house_value']), df_training['median_house_value'] \n",
    "X_test, y_test = df_test.drop(columns=['median_house_value']), df_test['median_house_value'] "
   ],
   "id": "6f0a0e9e4d28406a",
   "outputs": [],
   "execution_count": 6
  },
  {
   "metadata": {
    "ExecuteTime": {
     "end_time": "2025-05-14T14:20:06.262021Z",
     "start_time": "2025-05-14T14:20:06.244260Z"
    }
   },
   "cell_type": "code",
   "source": "X_train.describe()",
   "id": "614cceffe319da81",
   "outputs": [
    {
     "data": {
      "text/plain": [
       "          longitude      latitude  housing_median_age   total_rooms  \\\n",
       "count  16512.000000  16512.000000        16512.000000  16512.000000   \n",
       "mean    -119.564668     35.630184           28.634872   2618.599201   \n",
       "std        2.006186      2.137251           12.542966   2175.644998   \n",
       "min     -124.350000     32.540000            1.000000      2.000000   \n",
       "25%     -121.790000     33.930000           18.000000   1442.000000   \n",
       "50%     -118.490000     34.250000           29.000000   2123.000000   \n",
       "75%     -118.010000     37.710000           37.000000   3129.250000   \n",
       "max     -114.310000     41.950000           52.000000  39320.000000   \n",
       "\n",
       "       total_bedrooms    population    households  median_income  \\\n",
       "count    16512.000000  16512.000000  16512.000000   16512.000000   \n",
       "mean       535.221524   1419.375121    497.322008       3.873247   \n",
       "std        420.576130   1141.589379    383.850585       1.903890   \n",
       "min          1.000000      3.000000      1.000000       0.499900   \n",
       "25%        295.000000    785.000000    279.000000       2.572850   \n",
       "50%        436.000000   1163.000000    408.000000       3.533400   \n",
       "75%        640.000000   1715.250000    602.000000       4.740400   \n",
       "max       6445.000000  35682.000000   6082.000000      15.000100   \n",
       "\n",
       "           NEAR BAY     <1H OCEAN        INLAND    NEAR OCEAN        ISLAND  \n",
       "count  16512.000000  16512.000000  16512.000000  16512.000000  16512.000000  \n",
       "mean       0.111313      0.442406      0.318011      0.128089      0.000182  \n",
       "std        0.314529      0.496687      0.465718      0.334199      0.013478  \n",
       "min        0.000000      0.000000      0.000000      0.000000      0.000000  \n",
       "25%        0.000000      0.000000      0.000000      0.000000      0.000000  \n",
       "50%        0.000000      0.000000      0.000000      0.000000      0.000000  \n",
       "75%        0.000000      1.000000      1.000000      0.000000      0.000000  \n",
       "max        1.000000      1.000000      1.000000      1.000000      1.000000  "
      ],
      "text/html": [
       "<div>\n",
       "<style scoped>\n",
       "    .dataframe tbody tr th:only-of-type {\n",
       "        vertical-align: middle;\n",
       "    }\n",
       "\n",
       "    .dataframe tbody tr th {\n",
       "        vertical-align: top;\n",
       "    }\n",
       "\n",
       "    .dataframe thead th {\n",
       "        text-align: right;\n",
       "    }\n",
       "</style>\n",
       "<table border=\"1\" class=\"dataframe\">\n",
       "  <thead>\n",
       "    <tr style=\"text-align: right;\">\n",
       "      <th></th>\n",
       "      <th>longitude</th>\n",
       "      <th>latitude</th>\n",
       "      <th>housing_median_age</th>\n",
       "      <th>total_rooms</th>\n",
       "      <th>total_bedrooms</th>\n",
       "      <th>population</th>\n",
       "      <th>households</th>\n",
       "      <th>median_income</th>\n",
       "      <th>NEAR BAY</th>\n",
       "      <th>&lt;1H OCEAN</th>\n",
       "      <th>INLAND</th>\n",
       "      <th>NEAR OCEAN</th>\n",
       "      <th>ISLAND</th>\n",
       "    </tr>\n",
       "  </thead>\n",
       "  <tbody>\n",
       "    <tr>\n",
       "      <th>count</th>\n",
       "      <td>16512.000000</td>\n",
       "      <td>16512.000000</td>\n",
       "      <td>16512.000000</td>\n",
       "      <td>16512.000000</td>\n",
       "      <td>16512.000000</td>\n",
       "      <td>16512.000000</td>\n",
       "      <td>16512.000000</td>\n",
       "      <td>16512.000000</td>\n",
       "      <td>16512.000000</td>\n",
       "      <td>16512.000000</td>\n",
       "      <td>16512.000000</td>\n",
       "      <td>16512.000000</td>\n",
       "      <td>16512.000000</td>\n",
       "    </tr>\n",
       "    <tr>\n",
       "      <th>mean</th>\n",
       "      <td>-119.564668</td>\n",
       "      <td>35.630184</td>\n",
       "      <td>28.634872</td>\n",
       "      <td>2618.599201</td>\n",
       "      <td>535.221524</td>\n",
       "      <td>1419.375121</td>\n",
       "      <td>497.322008</td>\n",
       "      <td>3.873247</td>\n",
       "      <td>0.111313</td>\n",
       "      <td>0.442406</td>\n",
       "      <td>0.318011</td>\n",
       "      <td>0.128089</td>\n",
       "      <td>0.000182</td>\n",
       "    </tr>\n",
       "    <tr>\n",
       "      <th>std</th>\n",
       "      <td>2.006186</td>\n",
       "      <td>2.137251</td>\n",
       "      <td>12.542966</td>\n",
       "      <td>2175.644998</td>\n",
       "      <td>420.576130</td>\n",
       "      <td>1141.589379</td>\n",
       "      <td>383.850585</td>\n",
       "      <td>1.903890</td>\n",
       "      <td>0.314529</td>\n",
       "      <td>0.496687</td>\n",
       "      <td>0.465718</td>\n",
       "      <td>0.334199</td>\n",
       "      <td>0.013478</td>\n",
       "    </tr>\n",
       "    <tr>\n",
       "      <th>min</th>\n",
       "      <td>-124.350000</td>\n",
       "      <td>32.540000</td>\n",
       "      <td>1.000000</td>\n",
       "      <td>2.000000</td>\n",
       "      <td>1.000000</td>\n",
       "      <td>3.000000</td>\n",
       "      <td>1.000000</td>\n",
       "      <td>0.499900</td>\n",
       "      <td>0.000000</td>\n",
       "      <td>0.000000</td>\n",
       "      <td>0.000000</td>\n",
       "      <td>0.000000</td>\n",
       "      <td>0.000000</td>\n",
       "    </tr>\n",
       "    <tr>\n",
       "      <th>25%</th>\n",
       "      <td>-121.790000</td>\n",
       "      <td>33.930000</td>\n",
       "      <td>18.000000</td>\n",
       "      <td>1442.000000</td>\n",
       "      <td>295.000000</td>\n",
       "      <td>785.000000</td>\n",
       "      <td>279.000000</td>\n",
       "      <td>2.572850</td>\n",
       "      <td>0.000000</td>\n",
       "      <td>0.000000</td>\n",
       "      <td>0.000000</td>\n",
       "      <td>0.000000</td>\n",
       "      <td>0.000000</td>\n",
       "    </tr>\n",
       "    <tr>\n",
       "      <th>50%</th>\n",
       "      <td>-118.490000</td>\n",
       "      <td>34.250000</td>\n",
       "      <td>29.000000</td>\n",
       "      <td>2123.000000</td>\n",
       "      <td>436.000000</td>\n",
       "      <td>1163.000000</td>\n",
       "      <td>408.000000</td>\n",
       "      <td>3.533400</td>\n",
       "      <td>0.000000</td>\n",
       "      <td>0.000000</td>\n",
       "      <td>0.000000</td>\n",
       "      <td>0.000000</td>\n",
       "      <td>0.000000</td>\n",
       "    </tr>\n",
       "    <tr>\n",
       "      <th>75%</th>\n",
       "      <td>-118.010000</td>\n",
       "      <td>37.710000</td>\n",
       "      <td>37.000000</td>\n",
       "      <td>3129.250000</td>\n",
       "      <td>640.000000</td>\n",
       "      <td>1715.250000</td>\n",
       "      <td>602.000000</td>\n",
       "      <td>4.740400</td>\n",
       "      <td>0.000000</td>\n",
       "      <td>1.000000</td>\n",
       "      <td>1.000000</td>\n",
       "      <td>0.000000</td>\n",
       "      <td>0.000000</td>\n",
       "    </tr>\n",
       "    <tr>\n",
       "      <th>max</th>\n",
       "      <td>-114.310000</td>\n",
       "      <td>41.950000</td>\n",
       "      <td>52.000000</td>\n",
       "      <td>39320.000000</td>\n",
       "      <td>6445.000000</td>\n",
       "      <td>35682.000000</td>\n",
       "      <td>6082.000000</td>\n",
       "      <td>15.000100</td>\n",
       "      <td>1.000000</td>\n",
       "      <td>1.000000</td>\n",
       "      <td>1.000000</td>\n",
       "      <td>1.000000</td>\n",
       "      <td>1.000000</td>\n",
       "    </tr>\n",
       "  </tbody>\n",
       "</table>\n",
       "</div>"
      ]
     },
     "execution_count": 7,
     "metadata": {},
     "output_type": "execute_result"
    }
   ],
   "execution_count": 7
  },
  {
   "metadata": {
    "ExecuteTime": {
     "end_time": "2025-05-14T14:20:06.315937Z",
     "start_time": "2025-05-14T14:20:06.308313Z"
    }
   },
   "cell_type": "code",
   "source": [
    "# standardize feature values\n",
    "X_scaled = X_train.drop(columns=proximity_numerical.columns)\n",
    "\n",
    "for feature in X_scaled.columns:\n",
    "    X_scaled[feature] = (X_scaled[feature] - X_scaled[feature].min()) / (X_scaled[feature].max() - X_scaled[feature].min())\n",
    "    \n",
    "X_scaled.head()"
   ],
   "id": "d9801cf4a701ef53",
   "outputs": [
    {
     "data": {
      "text/plain": [
       "   longitude  latitude  housing_median_age  total_rooms  total_bedrooms  \\\n",
       "0   0.708167  0.072264            0.372549     0.049850        0.051676   \n",
       "1   0.240040  0.501594            0.823529     0.053462        0.060056   \n",
       "2   0.296813  0.624867            0.333333     0.067170        0.077747   \n",
       "3   0.289841  0.631243            0.215686     0.125312        0.156580   \n",
       "4   0.221116  0.470776            0.509804     0.025154        0.029950   \n",
       "\n",
       "   population  households  median_income  \n",
       "0    0.032792    0.057227       0.250459  \n",
       "1    0.031783    0.066108       0.305079  \n",
       "2    0.049105    0.088801       0.195046  \n",
       "3    0.073376    0.142904       0.153536  \n",
       "4    0.015135    0.025325       0.290955  "
      ],
      "text/html": [
       "<div>\n",
       "<style scoped>\n",
       "    .dataframe tbody tr th:only-of-type {\n",
       "        vertical-align: middle;\n",
       "    }\n",
       "\n",
       "    .dataframe tbody tr th {\n",
       "        vertical-align: top;\n",
       "    }\n",
       "\n",
       "    .dataframe thead th {\n",
       "        text-align: right;\n",
       "    }\n",
       "</style>\n",
       "<table border=\"1\" class=\"dataframe\">\n",
       "  <thead>\n",
       "    <tr style=\"text-align: right;\">\n",
       "      <th></th>\n",
       "      <th>longitude</th>\n",
       "      <th>latitude</th>\n",
       "      <th>housing_median_age</th>\n",
       "      <th>total_rooms</th>\n",
       "      <th>total_bedrooms</th>\n",
       "      <th>population</th>\n",
       "      <th>households</th>\n",
       "      <th>median_income</th>\n",
       "    </tr>\n",
       "  </thead>\n",
       "  <tbody>\n",
       "    <tr>\n",
       "      <th>0</th>\n",
       "      <td>0.708167</td>\n",
       "      <td>0.072264</td>\n",
       "      <td>0.372549</td>\n",
       "      <td>0.049850</td>\n",
       "      <td>0.051676</td>\n",
       "      <td>0.032792</td>\n",
       "      <td>0.057227</td>\n",
       "      <td>0.250459</td>\n",
       "    </tr>\n",
       "    <tr>\n",
       "      <th>1</th>\n",
       "      <td>0.240040</td>\n",
       "      <td>0.501594</td>\n",
       "      <td>0.823529</td>\n",
       "      <td>0.053462</td>\n",
       "      <td>0.060056</td>\n",
       "      <td>0.031783</td>\n",
       "      <td>0.066108</td>\n",
       "      <td>0.305079</td>\n",
       "    </tr>\n",
       "    <tr>\n",
       "      <th>2</th>\n",
       "      <td>0.296813</td>\n",
       "      <td>0.624867</td>\n",
       "      <td>0.333333</td>\n",
       "      <td>0.067170</td>\n",
       "      <td>0.077747</td>\n",
       "      <td>0.049105</td>\n",
       "      <td>0.088801</td>\n",
       "      <td>0.195046</td>\n",
       "    </tr>\n",
       "    <tr>\n",
       "      <th>3</th>\n",
       "      <td>0.289841</td>\n",
       "      <td>0.631243</td>\n",
       "      <td>0.215686</td>\n",
       "      <td>0.125312</td>\n",
       "      <td>0.156580</td>\n",
       "      <td>0.073376</td>\n",
       "      <td>0.142904</td>\n",
       "      <td>0.153536</td>\n",
       "    </tr>\n",
       "    <tr>\n",
       "      <th>4</th>\n",
       "      <td>0.221116</td>\n",
       "      <td>0.470776</td>\n",
       "      <td>0.509804</td>\n",
       "      <td>0.025154</td>\n",
       "      <td>0.029950</td>\n",
       "      <td>0.015135</td>\n",
       "      <td>0.025325</td>\n",
       "      <td>0.290955</td>\n",
       "    </tr>\n",
       "  </tbody>\n",
       "</table>\n",
       "</div>"
      ]
     },
     "execution_count": 8,
     "metadata": {},
     "output_type": "execute_result"
    }
   ],
   "execution_count": 8
  },
  {
   "metadata": {
    "ExecuteTime": {
     "end_time": "2025-05-14T14:20:06.360414Z",
     "start_time": "2025-05-14T14:20:06.355671Z"
    }
   },
   "cell_type": "code",
   "source": [
    "# standardize target values\n",
    "y_scaled = (y_train - y_train.min()) / (y_train.max() - y_train.min())\n",
    "y_scaled.head()"
   ],
   "id": "4d8c7ba0a039a6ae",
   "outputs": [
    {
     "data": {
      "text/plain": [
       "0    0.304125\n",
       "1    0.459794\n",
       "2    0.157115\n",
       "3    0.195465\n",
       "4    0.690721\n",
       "Name: median_house_value, dtype: float64"
      ]
     },
     "execution_count": 9,
     "metadata": {},
     "output_type": "execute_result"
    }
   ],
   "execution_count": 9
  },
  {
   "metadata": {
    "ExecuteTime": {
     "end_time": "2025-05-14T14:20:06.450497Z",
     "start_time": "2025-05-14T14:20:06.447666Z"
    }
   },
   "cell_type": "code",
   "source": [
    "# initialize linear regression model\n",
    "model = LinearRegression(epochs=5000, lr=0.01, metrics=['mse', 'rmse', 'r2'], reg='l1', l1_coef=0.01, sgd_sample=0.5)"
   ],
   "id": "339b69b64e62f952",
   "outputs": [],
   "execution_count": 10
  },
  {
   "metadata": {
    "ExecuteTime": {
     "end_time": "2025-05-14T14:20:33.272743Z",
     "start_time": "2025-05-14T14:20:06.499588Z"
    }
   },
   "cell_type": "code",
   "source": "loss, weights = model.fit(X_scaled, y_scaled, verbose=100)",
   "id": "5648cca9ec6cae6b",
   "outputs": [
    {
     "name": "stdout",
     "output_type": "stream",
     "text": [
      "start | loss: 5.798903891106254 | mse: 5.329176172305227 | rmse: 2.3085008495353057 | r2: -93.35625254406649\n",
      "100 | loss: 0.11785840380360799 | mse: 0.06269581348397302 | rmse: 0.25039132070415904 | r2: -0.11006688825422928\n",
      "200 | loss: 0.10998577609733298 | mse: 0.057362795335879006 | rmse: 0.23950531379466095 | r2: -0.015642611230191728\n",
      "300 | loss: 0.10324559737152121 | mse: 0.05310612357791191 | rmse: 0.23044765908533746 | r2: 0.0597243089852082\n",
      "400 | loss: 0.09729444995681412 | mse: 0.04958854544834192 | rmse: 0.22268485680068575 | r2: 0.12200513431465498\n",
      "500 | loss: 0.09192218003180903 | mse: 0.0466053493483032 | rmse: 0.2158827212824204 | r2: 0.17482440609376115\n",
      "600 | loss: 0.087002934472789 | mse: 0.044029686897084905 | rmse: 0.20983252106640882 | r2: 0.22042805079562067\n",
      "700 | loss: 0.08245256658368785 | mse: 0.04177858612370284 | rmse: 0.204398106947454 | r2: 0.2602851368081295\n",
      "800 | loss: 0.07821211051120922 | mse: 0.03979508452662194 | rmse: 0.19948705353135562 | r2: 0.2954042193012809\n",
      "900 | loss: 0.07424177725045618 | mse: 0.03803835732042613 | rmse: 0.19503424653231066 | r2: 0.32650812552608544\n",
      "1000 | loss: 0.07050935538230782 | mse: 0.036477391624596206 | rmse: 0.19099055375749924 | r2: 0.3541459570869515\n",
      "1100 | loss: 0.06698854566235346 | mse: 0.035087976362409824 | rmse: 0.18731784848863128 | r2: 0.3787463855825869\n",
      "1200 | loss: 0.06366090743017562 | mse: 0.03385041020033003 | rmse: 0.18398480969995873 | r2: 0.4006582349104504\n",
      "1300 | loss: 0.06065600622907342 | mse: 0.032801618001978165 | rmse: 0.18111216966835267 | r2: 0.41922772826820665\n",
      "1400 | loss: 0.05815086125289494 | mse: 0.032032361422448336 | rmse: 0.17897586826845774 | r2: 0.43284787625027343\n",
      "1500 | loss: 0.05618466533193057 | mse: 0.03150891742088887 | rmse: 0.17750751370262857 | r2: 0.4421157654712179\n",
      "1600 | loss: 0.05439677584595251 | mse: 0.03109045898025456 | rmse: 0.17632486773071618 | r2: 0.4495248225237656\n",
      "1700 | loss: 0.05299867874658207 | mse: 0.030710610359351 | rmse: 0.17524443032333722 | r2: 0.4562502696179621\n",
      "1800 | loss: 0.051796829355966065 | mse: 0.030329036997905314 | rmse: 0.17415233847957745 | r2: 0.4630062542753587\n",
      "1900 | loss: 0.05069597483611018 | mse: 0.030011543104333096 | rmse: 0.17323839962413962 | r2: 0.4686276736157031\n",
      "2000 | loss: 0.04968304416463934 | mse: 0.029754831191951353 | rmse: 0.17249588746387942 | r2: 0.47317291161358377\n",
      "2100 | loss: 0.04874879038033504 | mse: 0.029548279912861034 | rmse: 0.17189613117479122 | r2: 0.4768300255882407\n",
      "2200 | loss: 0.047885340390512586 | mse: 0.029388226697650056 | rmse: 0.17142994691024685 | r2: 0.47966386352240764\n",
      "2300 | loss: 0.04708550688564647 | mse: 0.029267462629611402 | rmse: 0.17107735861186132 | r2: 0.4818020635994329\n",
      "2400 | loss: 0.04634431787532045 | mse: 0.02918058903153669 | rmse: 0.17082326841369325 | r2: 0.4833402126292863\n",
      "2500 | loss: 0.045655480451213606 | mse: 0.029124995101622156 | rmse: 0.17066046730752307 | r2: 0.48432453641993023\n",
      "2600 | loss: 0.045015430348227255 | mse: 0.02909622032889137 | rmse: 0.1705761423203473 | r2: 0.4848340109868987\n",
      "2700 | loss: 0.04441899556697347 | mse: 0.029092051267491308 | rmse: 0.17056392135352455 | r2: 0.4849078267133107\n",
      "2800 | loss: 0.04386306610551567 | mse: 0.029108889763912904 | rmse: 0.17061327546211902 | r2: 0.48460969105979723\n",
      "2900 | loss: 0.04342378433400072 | mse: 0.029112986666440674 | rmse: 0.1706252814398871 | r2: 0.4845371529493915\n",
      "3000 | loss: 0.04305632988677273 | mse: 0.029108773594733427 | rmse: 0.17061293501588157 | r2: 0.48461174790462325\n",
      "3100 | loss: 0.042738501633355276 | mse: 0.02910113466149629 | rmse: 0.1705905468116457 | r2: 0.4847469997879136\n",
      "3200 | loss: 0.04242900222573523 | mse: 0.029100324285656468 | rmse: 0.17058817158776415 | r2: 0.48476134797700055\n",
      "3300 | loss: 0.04215109978329725 | mse: 0.029095827734087195 | rmse: 0.17057499152597722 | r2: 0.4848409621127937\n",
      "3400 | loss: 0.04196166656367573 | mse: 0.029077981220905304 | rmse: 0.17052267069485308 | r2: 0.4851569453061384\n",
      "3500 | loss: 0.041777943023716915 | mse: 0.029062814527019424 | rmse: 0.1704781936994272 | r2: 0.4854254806955278\n",
      "3600 | loss: 0.041595384388456245 | mse: 0.02905185249619809 | rmse: 0.17044603983724024 | r2: 0.4856195700097353\n",
      "3700 | loss: 0.0414342611505675 | mse: 0.029040869614989924 | rmse: 0.1704138187324899 | r2: 0.4858140284925163\n",
      "3800 | loss: 0.041426679496453137 | mse: 0.029030381288903936 | rmse: 0.1703830428443627 | r2: 0.4859997305809698\n",
      "3900 | loss: 0.041426353032075425 | mse: 0.029019163165485022 | rmse: 0.17035011935858754 | r2: 0.4861983541678362\n",
      "4000 | loss: 0.041422739018429626 | mse: 0.029010498272385565 | rmse: 0.17032468485919933 | r2: 0.4863517712843144\n",
      "4100 | loss: 0.04142154589504674 | mse: 0.02900162645997512 | rmse: 0.17029863904322642 | r2: 0.48650885203099226\n",
      "4200 | loss: 0.04141956394982481 | mse: 0.028994319818300206 | rmse: 0.170277185254808 | r2: 0.48663822049336547\n",
      "4300 | loss: 0.04141902587776445 | mse: 0.02898575285846762 | rmse: 0.17025202747241402 | r2: 0.486789903642761\n",
      "4400 | loss: 0.041417977114481974 | mse: 0.028979442927155322 | rmse: 0.17023349531498003 | r2: 0.4869016247518383\n",
      "4500 | loss: 0.04141789841189446 | mse: 0.028971402387476582 | rmse: 0.1702098774674272 | r2: 0.487043987317456\n",
      "4600 | loss: 0.04141733930527199 | mse: 0.028964954342147863 | rmse: 0.17019093495879228 | r2: 0.4871581538178269\n",
      "4700 | loss: 0.04141677593195067 | mse: 0.028958755162307205 | rmse: 0.17017272155756105 | r2: 0.487267914005837\n",
      "4800 | loss: 0.04141632699755327 | mse: 0.028953735225069225 | rmse: 0.17015797138268082 | r2: 0.4873567949980331\n",
      "4900 | loss: 0.041416213194858 | mse: 0.028947598742802033 | rmse: 0.17013993870576666 | r2: 0.4874654450879934\n"
     ]
    }
   ],
   "execution_count": 11
  },
  {
   "metadata": {
    "ExecuteTime": {
     "end_time": "2025-05-14T14:20:33.277860Z",
     "start_time": "2025-05-14T14:20:33.276033Z"
    }
   },
   "cell_type": "code",
   "source": "",
   "id": "f60963693ef7e23",
   "outputs": [],
   "execution_count": null
  }
 ],
 "metadata": {
  "kernelspec": {
   "display_name": "Python 3",
   "language": "python",
   "name": "python3"
  },
  "language_info": {
   "codemirror_mode": {
    "name": "ipython",
    "version": 2
   },
   "file_extension": ".py",
   "mimetype": "text/x-python",
   "name": "python",
   "nbconvert_exporter": "python",
   "pygments_lexer": "ipython2",
   "version": "2.7.6"
  }
 },
 "nbformat": 4,
 "nbformat_minor": 5
}
